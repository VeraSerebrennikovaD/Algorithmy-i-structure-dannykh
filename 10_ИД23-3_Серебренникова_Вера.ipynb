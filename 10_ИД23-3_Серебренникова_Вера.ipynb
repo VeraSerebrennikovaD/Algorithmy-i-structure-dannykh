{
 "cells": [
  {
   "cell_type": "markdown",
   "id": "d44807e5",
   "metadata": {},
   "source": [
    "1) При помощи стека (можно использовать любую реализацию стека, например, из лекции) проверить, что в строке, содержащей большой фрагмент кода на python, корректно открываются и закрываются скобки '(' и ')'. Заводить какие-либо счетчики и вообще вести подсчет скобок запрещено. \n",
    "Например, в следующей строке корректное количество скобок: \n",
    "'((dsasdas((das(d)das)d)asd)da)' \n",
    "А вот в следующей закрывающих больше, чем открывающих:\n",
    "'(f(gfhd((hgfdg((fghh)dads)das))ds)adddads())))' "
   ]
  },
  {
   "cell_type": "code",
   "execution_count": null,
   "id": "b3681361",
   "metadata": {},
   "outputs": [],
   "source": [
    "from collections import deque\n",
    "\n",
    "class Stack(deque):\n",
    "    def push(self, item): # Добавить элемент\n",
    "        self.append(item)\n",
    "    def is_empty(self): # Проверить стек на заполненность\n",
    "        return len(self) == 0\n",
    "\n",
    "stroka1 = '((dsasdas((das(d)das)d)asd)da)'\n",
    "stroka2 = '(f(gfhd((hgfdg((fghh)dads)das))ds)adddads())))'\n",
    "\n",
    "def proverka(stroka):\n",
    "    stack = Stack()\n",
    "    for i in stroka:\n",
    "        if i == '(':\n",
    "            stack.push(1)\n",
    "        if i == ')':\n",
    "            if not stack.is_empty():\n",
    "                stack.pop()\n",
    "            else:\n",
    "                return 'некорректно'\n",
    "    if stack.is_empty():\n",
    "        return 'корректно'\n",
    "    else:\n",
    "        print('некорректно')\n",
    "\n",
    "print(stroka1, '-', proverka(stroka1))\n",
    "print(stroka2, '-', proverka(stroka2))\n",
    "stroka = input('Введите строку на проверу: ')\n",
    "print(proverka(stroka))"
   ]
  },
  {
   "cell_type": "markdown",
   "id": "727f759c",
   "metadata": {},
   "source": [
    "2) С помощью списка (list) реализовать стек. При создании стека нужно передать максимальную длину стека. В случае попытки добавления элемента, приводящего к превышению емкости стека возвращать ошибку. \n",
    "Стек должен поддерживать следующие операции: \n",
    "S.push(e): добавление элемента e на вершину стека S. \n",
    "S.pop(): удаляет и возвращает верхний элемент стека S. Если стек пуст, то возникает ошибка. \n",
    "S.top(): возвращает верхний элемент стека S, не удаляя его. Если стек пуст, то возникает ошибка. \n",
    "S.is_empty( ): возвращает True если стек S не содержит ни одного элемента. \n",
    "len(S): возвращает текущеее количество элементов в стеке S. "
   ]
  },
  {
   "cell_type": "code",
   "execution_count": null,
   "id": "b5b84dc9",
   "metadata": {},
   "outputs": [],
   "source": [
    "class Stack:\n",
    "    def __init__(self, max_razmer):\n",
    "        self.stack = []\n",
    "        self.max_razmer = int(max_razmer)\n",
    "    def push(self, elem):\n",
    "        if len(self.stack) >= int(max_razmer):\n",
    "            raise ValueError('Превышен максимально возможный размер стека')\n",
    "        self.stack.append(elem)\n",
    "    def pop(self):\n",
    "        if not self.is_empty():\n",
    "            return self.stack.pop()\n",
    "        else:\n",
    "            raise ValueError('Список пуст')\n",
    "\n",
    "    def top(self):\n",
    "        if self.is_empty():\n",
    "            raise ValueError(\"Стек пуст\")\n",
    "        return self.stack[-1]\n",
    "    def is_empty(self):\n",
    "        return len(self.stack) == 0\n",
    "    def __len__(self):\n",
    "        return len(self.stack)\n",
    "\n",
    "\n",
    "max_razmer = input('Введите максимальную величину стека: ')\n",
    "s = Stack(max_razmer)\n",
    "print('Примеры выполнений операций для стека:')\n",
    "s.push(1)\n",
    "s.push(2)\n",
    "s.push(3)\n",
    "print(s.top())\n",
    "print(len(s))\n",
    "s.pop()\n",
    "print(s.top())\n",
    "print(len(s))\n",
    "print(s.is_empty())"
   ]
  },
  {
   "cell_type": "markdown",
   "id": "d9a99f70",
   "metadata": {},
   "source": [
    "3) Реализовать класс однонаправленного связанного списка.  \n",
    "\n",
    "3.1) Реализовать метод добавления элемента в начало списка.  "
   ]
  },
  {
   "cell_type": "code",
   "execution_count": null,
   "id": "3a049fe5",
   "metadata": {},
   "outputs": [],
   "source": [
    "class Tcep:\n",
    "    def __init__(self, data=None):\n",
    "        self.data = data\n",
    "        self.sleduyshchiy_elem = None\n",
    "\n",
    "class LinkedList:\n",
    "    def __init__(self):\n",
    "        self.sleduyshchiy_elem = None\n",
    "\n",
    "    def add_at_beginning(self, data):\n",
    "        new_tcep = Tcep(data)\n",
    "        new_tcep.sleduyshchiy_elem = self.sleduyshchiy_elem\n",
    "        self.posledniy_elem = new_tcep\n",
    "\n",
    "# Пример использования:\n",
    "linked_list = LinkedList()\n",
    "linked_list.add_at_beginning(1)"
   ]
  },
  {
   "cell_type": "markdown",
   "id": "a2d148af",
   "metadata": {},
   "source": [
    "4) На базе класса однонаправленного связанного списка реализовать двунаправленный связанный список.  \n",
    "\n",
    "4.1) Реализовать метод добавления элемента в начало списка.  "
   ]
  },
  {
   "cell_type": "code",
   "execution_count": null,
   "id": "64467eaf",
   "metadata": {},
   "outputs": [],
   "source": [
    "class DoubleTcep:\n",
    "    def __init__(self, data=None):\n",
    "        self.data = data\n",
    "        self.predydushchiy_elem = None\n",
    "        self.sleduyshchiy_elem = None\n",
    "\n",
    "class DoublyLinkedList:\n",
    "    def __init__(self):\n",
    "        self.posledniy_elem = None\n",
    "\n",
    "    def add_at_beginning(self, data):\n",
    "        new_tcep = DoubleTcep(data)\n",
    "        if self.posledniy_elem:\n",
    "            self.posledniy_elem.predydushchiy_elem = new_tcep\n",
    "            new_tcep.sleduyshchiy_elem = self.posledniy_elem\n",
    "        self.posledniy_elem = new_tcep"
   ]
  },
  {
   "cell_type": "markdown",
   "id": "f3b77fb3",
   "metadata": {},
   "source": [
    "5) При помощи класса связанного списка реализовать очередь."
   ]
  },
  {
   "cell_type": "code",
   "execution_count": 2,
   "id": "1dfcbaf6",
   "metadata": {},
   "outputs": [
    {
     "name": "stdout",
     "output_type": "stream",
     "text": [
      "Элементы очереди:\n",
      "1\n",
      "2\n",
      "3\n"
     ]
    }
   ],
   "source": [
    "class Node:\n",
    "    def __init__(self, data=None):\n",
    "        self.data = data\n",
    "        self.next = None\n",
    "\n",
    "class LinkedList:\n",
    "    def __init__(self):\n",
    "        self.head = None\n",
    "\n",
    "    def add_at_beginning(self, data):\n",
    "        new_node = Node(data)\n",
    "        new_node.next = self.head\n",
    "        self.head = new_node\n",
    "\n",
    "class Queue:\n",
    "    def __init__(self):\n",
    "        self.queue = LinkedList()\n",
    "\n",
    "    def adding_to_the_end(self, data):\n",
    "        self.queue.add_at_beginning(data)\n",
    "\n",
    "    def queue_progression(self):\n",
    "        current = self.queue.head\n",
    "        prev = None\n",
    "        while current.next:\n",
    "            prev = current\n",
    "            current = current.next\n",
    "        if prev:\n",
    "            prev.next = None\n",
    "        else:\n",
    "            self.queue.head = None\n",
    "        return current.data\n",
    "\n",
    "    def is_empty(self):\n",
    "        return self.queue.head is None\n",
    "\n",
    "\n",
    "queue = Queue()\n",
    "# Пример выполнения:\n",
    "queue.adding_to_the_end(1)\n",
    "queue.adding_to_the_end(2)\n",
    "queue.adding_to_the_end(3)\n",
    "\n",
    "print(\"Элементы очереди:\")\n",
    "while not queue.is_empty():\n",
    "    print(queue.queue_progression())"
   ]
  }
 ],
 "metadata": {
  "kernelspec": {
   "display_name": "Python 3 (ipykernel)",
   "language": "python",
   "name": "python3"
  },
  "language_info": {
   "codemirror_mode": {
    "name": "ipython",
    "version": 3
   },
   "file_extension": ".py",
   "mimetype": "text/x-python",
   "name": "python",
   "nbconvert_exporter": "python",
   "pygments_lexer": "ipython3",
   "version": "3.11.5"
  }
 },
 "nbformat": 4,
 "nbformat_minor": 5
}
