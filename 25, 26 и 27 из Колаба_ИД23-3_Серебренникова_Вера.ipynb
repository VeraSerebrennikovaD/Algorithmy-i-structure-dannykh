{
 "cells": [
  {
   "cell_type": "markdown",
   "id": "5caac6ec",
   "metadata": {},
   "source": [
    "# 6 вариант"
   ]
  },
  {
   "cell_type": "markdown",
   "id": "9c6bbfc7",
   "metadata": {},
   "source": [
    "<div class = \"alert-success\">\n",
    "25"
   ]
  },
  {
   "cell_type": "markdown",
   "id": "b74029c7",
   "metadata": {},
   "source": [
    "<div class = \"alert-info\">\n",
    "Класс – окружность. Методы – расчет длины окружности и ее площади. Поля класса – координаты центра, радиус, длина, площадь окружности."
   ]
  },
  {
   "cell_type": "code",
   "execution_count": 3,
   "id": "2134dbe5",
   "metadata": {},
   "outputs": [
    {
     "name": "stdout",
     "output_type": "stream",
     "text": [
      "Координаты центра: (0, 0)\n",
      "Радиус: 5\n",
      "Длина окружности: 31.41592653589793\n",
      "Площадь окружности: 78.53981633974483\n"
     ]
    }
   ],
   "source": [
    "import math\n",
    "\n",
    "class Circle:\n",
    "    def __init__(self, center_x, center_y, radius):\n",
    "        # Инициализируем объект окружности с заданными координатами центра и радиусом\n",
    "        self.center_x = center_x  # x-координата центра окружности\n",
    "        self.center_y = center_y  # y-координата центра окружности\n",
    "        self.radius = radius      # радиус окружности\n",
    "        # Вычисляем периметр и площадь при инициализации объекта\n",
    "        self.perimeter = self.calculate_perimeter()  # периметр окружности\n",
    "        self.area = self.calculate_area()            # площадь окружности\n",
    "\n",
    "    def calculate_perimeter(self):\n",
    "        # Метод для вычисления периметра окружности\n",
    "        return 2 * math.pi * self.radius  # Формула для периметра окружности: 2 * pi * r\n",
    "\n",
    "    def calculate_area(self):\n",
    "        # Метод для вычисления площади окружности\n",
    "        return math.pi * (self.radius ** 2)  # Формула для площади окружности: pi * r^2\n",
    "\n",
    "# Пример использования класса\n",
    "circle = Circle(0, 0, 5)\n",
    "\n",
    "# Выводим информацию о созданной окружности\n",
    "print(\"Координаты центра:\", (circle.center_x, circle.center_y))\n",
    "print(\"Радиус:\", circle.radius)\n",
    "print(\"Длина окружности:\", circle.perimeter)\n",
    "print(\"Площадь окружности:\", circle.area)"
   ]
  },
  {
   "cell_type": "markdown",
   "id": "f8ab7f3d",
   "metadata": {},
   "source": [
    "<div class = \"alert-success\">\n",
    "26"
   ]
  },
  {
   "cell_type": "markdown",
   "id": "0d8d3eee",
   "metadata": {},
   "source": [
    "<div class = \"alert-info\">\n",
    "Опишите класс для работы со списком целых чисел размером  n . Включите в описание класса методы ввода элементов списка, вывода списка на экран, нахождения максимального и минимального элементов списка и их индексов, а также свойства, позволяющие: определить, является ли список упорядоченным по убыванию, домножить все элементы списка на скаляр."
   ]
  },
  {
   "cell_type": "markdown",
   "id": "b89b427f",
   "metadata": {},
   "source": [
    "Скаляр - величина, полностью определяемая в любой координатной системе одним числом или функцией, которая не изменяется при изменении пространственной системы координат.\n",
    "Проще говоря, const."
   ]
  },
  {
   "cell_type": "code",
   "execution_count": 1,
   "id": "2c11817d",
   "metadata": {
    "scrolled": true
   },
   "outputs": [
    {
     "name": "stdout",
     "output_type": "stream",
     "text": [
      "Введите размер списка: 3\n",
      "Введите целое число: 4\n",
      "Введите целое число: 5\n",
      "Введите целое число: 6\n",
      "Список целых чисел: [4, 5, 6]\n",
      "Максимальный элемент: 6\n",
      "Минимальный элемент: 4\n",
      "Индекс максимального элемента: 2\n",
      "Индекс минимального элемента: 0\n",
      "Список упорядочен по убыванию: False\n",
      "Введите скаляр для умножения: 2\n",
      "Список после умножения на скаляр: [8, 10, 12]\n"
     ]
    }
   ],
   "source": [
    "class IntegerList:\n",
    "    def __init__(self):\n",
    "        # Инициализация пустого списка данных\n",
    "        self.data = []\n",
    "\n",
    "    def input_elements(self, n):\n",
    "        # Метод для ввода целых чисел пользователем и добавления их в список\n",
    "        for i in range(n):\n",
    "            value = int(input(\"Введите целое число: \"))  # Запрос ввода целого числа\n",
    "            self.data.append(value)  # Добавление введенного числа в список\n",
    "\n",
    "    def display(self):\n",
    "        # Метод для отображения списка целых чисел\n",
    "        print(\"Список целых чисел:\", self.data)\n",
    "\n",
    "    def find_max(self):\n",
    "        # Метод для поиска максимального элемента в списке\n",
    "        if not self.data:  # Если список пуст\n",
    "            return None\n",
    "        return max(self.data)  # Используем встроенную функцию max для поиска максимального значения\n",
    "\n",
    "    def find_min(self):\n",
    "        # Метод для поиска минимального элемента в списке\n",
    "        if not self.data:  # Если список пуст\n",
    "            return None\n",
    "        return min(self.data)  # Используем встроенную функцию min для поиска минимального значения\n",
    "\n",
    "    def find_max_index(self):\n",
    "        # Метод для поиска индекса максимального элемента в списке\n",
    "        if not self.data:  # Если список пуст\n",
    "            return None\n",
    "        return self.data.index(max(self.data))  # Используем встроенные функции max и index\n",
    "\n",
    "    def find_min_index(self):\n",
    "        # Метод для поиска индекса минимального элемента в списке\n",
    "        if not self.data:  # Если список пуст\n",
    "            return None\n",
    "        return self.data.index(min(self.data))  # Используем встроенные функции min и index\n",
    "    \n",
    "    # Главная отличительная черта свойства от метода (то, что выше) заключается в том, что свойство \n",
    "    # используется без скобок в конце, например a.sort\n",
    "    @property # этой строчкой мы говорим, что последущая функция будет свойством\n",
    "    def scalar_multiply(self):\n",
    "        # Свойство для умножения всех элементов списка на заданный скаляр\n",
    "        return lambda scalar: [element * scalar for element in self.data]  # Возвращает функцию для умножения на скаляр\n",
    "        # lambda scalar -  ввод от пользователя числа, вот так оно вводится в свойствах\n",
    "\n",
    "\n",
    "    @property\n",
    "    def is_sorted_descending(self):\n",
    "        # Свойство, которое возвращает True, если список упорядочен по убыванию, иначе False\n",
    "        return all(self.data[i] >= self.data[i + 1] for i in range(len(self.data) - 1))\n",
    "    \n",
    "# Пример использования\n",
    "integer_list = IntegerList()  # Создание экземпляра класса IntegerList\n",
    "\n",
    "n = int(input(\"Введите размер списка: \"))  # Запрос на ввод размера списка\n",
    "integer_list.input_elements(n)  # Ввод элементов списка\n",
    "\n",
    "integer_list.display()  # Отображение списка\n",
    "print(\"Максимальный элемент:\", integer_list.find_max())  # Поиск и вывод максимального элемента\n",
    "print(\"Минимальный элемент:\", integer_list.find_min())  # Поиск и вывод минимального элемента\n",
    "print(\"Индекс максимального элемента:\", integer_list.find_max_index())  # Поиск и вывод индекса максимального элемента\n",
    "print(\"Индекс минимального элемента:\", integer_list.find_min_index())  # Поиск и вывод индекса минимального элемента\n",
    "print(\"Список упорядочен по убыванию:\", integer_list.is_sorted_descending)  # Проверка на упорядоченность по убыванию\n",
    "\n",
    "scalar = int(input(\"Введите скаляр для умножения: \"))  # Запрос на ввод скаляра\n",
    "multiplied_list = integer_list.scalar_multiply(scalar)  # Умножение всех элементов на скаляр\n",
    "print(\"Список после умножения на скаляр:\", multiplied_list)  # Вывод списка после умножения на скаляр"
   ]
  },
  {
   "cell_type": "markdown",
   "id": "4b0b8cdf",
   "metadata": {},
   "source": [
    "<div class = \"alert-success\">\n",
    "27"
   ]
  },
  {
   "cell_type": "markdown",
   "id": "8f3ce8b6",
   "metadata": {},
   "source": [
    "<div class = \"alert-info\">\n",
    "Создайте класс ТЕЛЕФОННЫЙ СПРАВОЧНИК с методами, позволяющими вывести на экран информацию о записях в телефонном справочнике, а также определить соответствие записи критерию поиска. Создайте дочерние классы ПЕРСОНА (фамилия, адрес, номер телефона), ОРГАНИЗАЦИЯ (название, адрес, телефон, факс, контактное лицо), ДРУГ (фамилия, адрес, номер телефона, дата рождения) со своими методами вывода информации на экран и определения соответствия заданной фамилии. Создайте список из  n  записей, выведите полную информацию из базы на экран, а также организуйте поиск в базе по фамилии."
   ]
  },
  {
   "cell_type": "code",
   "execution_count": 4,
   "id": "6a6468d1",
   "metadata": {},
   "outputs": [
    {
     "name": "stdout",
     "output_type": "stream",
     "text": [
      "Телефонный справочник:\n",
      "Персона: Фамилия - Иванов, Адрес - Москва, Телефон - 123-45-67\n",
      "Организация: Название - ООО Рога и копыта, Адрес - Санкт-Петербург, Телефон - 456-78-90, Факс - 789-10-11, Контактное лицо - Петров\n",
      "Друг: Фамилия - Петров, Адрес - Казань, Телефон - 987-65-43, Дата рождения - 01.01.1990\n",
      "Результаты поиска для фамилии 'Иванов':\n",
      "Персона: Фамилия - Иванов, Адрес - Москва, Телефон - 123-45-67\n",
      "Результаты поиска для фамилии 'Петров':\n",
      "Друг: Фамилия - Петров, Адрес - Казань, Телефон - 987-65-43, Дата рождения - 01.01.1990\n",
      "Нет записей с фамилией 'Сидоров'.\n",
      "\n"
     ]
    }
   ],
   "source": [
    "class PhoneDirectory:\n",
    "    def __init__(self):\n",
    "        self.entries = []  # Список для хранения записей в телефонном справочнике\n",
    "\n",
    "    def add_entry(self, entry):\n",
    "        # Метод для добавления новой записи в справочник\n",
    "        self.entries.append(entry)\n",
    "\n",
    "    def display_all_entries(self):\n",
    "        # Метод для вывода всех записей из справочника\n",
    "        print(\"Телефонный справочник:\")\n",
    "        for entry in self.entries:\n",
    "            entry.display_info()  # Вызываем метод display_info для каждой записи\n",
    "\n",
    "    def search_by_lastname(self, lastname):\n",
    "        # Метод для поиска записей по фамилии\n",
    "        found_entries = [entry for entry in self.entries if entry.check_lastname(lastname)]\n",
    "        if found_entries:\n",
    "            print(\"Результаты поиска для фамилии '{}':\".format(lastname)) # прикольная запись\n",
    "            for entry in found_entries:\n",
    "                entry.display_info()  # Выводим информацию о найденных записях\n",
    "        else:\n",
    "            print(\"Нет записей с фамилией '{}'.\\n\".format(lastname))\n",
    "\n",
    "\n",
    "class Entry: #entry это основной класс, который мы вызываем в том случае, если не знаем что это за объект в телефонной книжке: человек, компания или друг\n",
    "    #основной класс задает информацию и функции, которые будет находится во всех подклассах и будут работать одинаково в нашем случае это все что ниже\n",
    "    def __init__(self, lastname, address, phone_number):\n",
    "        # Инициализация общих данных для всех типов записей\n",
    "        self.lastname = lastname\n",
    "        self.address = address\n",
    "        self.phone_number = phone_number\n",
    "\n",
    "    def display_info(self): # Здесь и не должно быть ничего, так как у каждого подкласса это будет работать по-разному, но у всех этот метод есть\n",
    "        # Метод для отображения информации о записи\n",
    "        pass\n",
    "\n",
    "    def check_lastname(self, lastname): # a вот здесь нам повезло, везде эта функция работает одинаково, нам не придется ее писать в каждом подклассе\n",
    "        # Метод для проверки совпадения фамилии\n",
    "        return self.lastname == lastname\n",
    "\n",
    "\n",
    "class Person(Entry): # в скобочках Entry обозначает, что Person - это подкласс (еще называется дочерний класс???) класса Entry\n",
    "    # Подкласс, представляющий запись о частном лице\n",
    "    def display_info(self):\n",
    "        # Переопределение метода display_info для вывода информации о персоне\n",
    "        print(\"Персона: Фамилия - {}, Адрес - {}, Телефон - {}\".format(self.lastname, self.address, self.phone_number))\n",
    "\n",
    "\n",
    "class Organization(Entry):\n",
    "    # Подкласс, представляющий запись об организации\n",
    "    def __init__(self, name, address, phone, fax, contact_person): # тут добавлябтся новые атрибуты, поэтому приходится писать __init__\n",
    "        super().__init__(name, address, phone)  # Вызов конструктора родительского класса\n",
    "        # если по-русски, то он вызывает функцию __init__ класса Entry\n",
    "        self.fax = fax\n",
    "        self.contact_person = contact_person\n",
    "\n",
    "    def display_info(self):\n",
    "        # Переопределение метода display_info для вывода информации об организации\n",
    "        print(\"Организация: Название - {}, Адрес - {}, Телефон - {}, Факс - {}, Контактное лицо - {}\".format(\n",
    "            self.lastname, self.address, self.phone_number, self.fax, self.contact_person))\n",
    "\n",
    "    def check_lastname(self, lastname):\n",
    "        # Переопределение метода check_lastname для организации (организации не имеют фамилий)\n",
    "        return False\n",
    "\n",
    "\n",
    "class Friend(Entry):\n",
    "    # Подкласс, представляющий запись о друге\n",
    "    def __init__(self, lastname, address, phone_number, birth_date):\n",
    "        super().__init__(lastname, address, phone_number)  # Вызов конструктора родительского класса\n",
    "        self.birth_date = birth_date\n",
    "\n",
    "    def display_info(self):\n",
    "        # Переопределение метода display_info для вывода информации о друге\n",
    "        print(\"Друг: Фамилия - {}, Адрес - {}, Телефон - {}, Дата рождения - {}\".format(\n",
    "            self.lastname, self.address, self.phone_number, self.birth_date))\n",
    "# Создаем телефонный справочник\n",
    "phone_book = PhoneDirectory()\n",
    "\n",
    "# Добавляем записи\n",
    "phone_book.add_entry(Person(\"Иванов\", \"Москва\", \"123-45-67\"))\n",
    "phone_book.add_entry(Organization(\"ООО Рога и копыта\", \"Санкт-Петербург\", \"456-78-90\", \"789-10-11\", \"Петров\"))\n",
    "phone_book.add_entry(Friend(\"Петров\", \"Казань\", \"987-65-43\", \"01.01.1990\"))\n",
    "\n",
    "# Выводим все записи из телефонного справочника\n",
    "phone_book.display_all_entries()\n",
    "\n",
    "# Ищем записи по фамилии\n",
    "phone_book.search_by_lastname(\"Иванов\")\n",
    "phone_book.search_by_lastname(\"Петров\")\n",
    "phone_book.search_by_lastname(\"Сидоров\")"
   ]
  },
  {
   "cell_type": "code",
   "execution_count": null,
   "id": "924b94ba",
   "metadata": {},
   "outputs": [],
   "source": []
  }
 ],
 "metadata": {
  "kernelspec": {
   "display_name": "Python 3 (ipykernel)",
   "language": "python",
   "name": "python3"
  },
  "language_info": {
   "codemirror_mode": {
    "name": "ipython",
    "version": 3
   },
   "file_extension": ".py",
   "mimetype": "text/x-python",
   "name": "python",
   "nbconvert_exporter": "python",
   "pygments_lexer": "ipython3",
   "version": "3.11.5"
  }
 },
 "nbformat": 4,
 "nbformat_minor": 5
}
