{
 "cells": [
  {
   "cell_type": "markdown",
   "metadata": {},
   "source": [
    "### Контрольная работа № 1.\n",
    "### Вариант 1.\n",
    "#### Студент Серебренникова Вера группа ИД23-3"
   ]
  },
  {
   "cell_type": "markdown",
   "metadata": {},
   "source": [
    "1. Создайте класс Length (Длина), имеющий свойства\n",
    "\n",
    "• value (значение),\n",
    "\n",
    "• unit (единица измерения).\n",
    "\n",
    "При изменении единицы измерения значение должно соответственно меняться. Например, при переходе от сантиметров к метрам значение должно уменьшаться в 100 раз. Допустимые значения свойства unit: ‘см’, ‘м’, ‘км’. Организуйте эту проверку. Продемонстрируйте работу с классом."
   ]
  },
  {
   "cell_type": "code",
   "execution_count": 20,
   "metadata": {},
   "outputs": [
    {
     "name": "stdout",
     "output_type": "stream",
     "text": [
      "Возьмем как пример:\n",
      "150 см\n",
      "Изменим единицу измерения\n",
      "1.5 м\n",
      "Поменяем значение:\n",
      "0.5 м\n",
      "Изменим единицу измерения\n",
      "0.0005 км\n",
      "Попытаемся установить недопустимую единицу измерения:\n",
      "Недопустимая единица измерения: футы\n"
     ]
    }
   ],
   "source": [
    "class Length:\n",
    "    # Словарь для хранения соотношений между единицами измерения\n",
    "    units = {'см': 1, 'м': 100, 'км': 100000}\n",
    "\n",
    "    def __init__(self, value=0, unit='см'):\n",
    "        self._value = value\n",
    "        self._unit = None\n",
    "        self.unit = unit  # Чтобы проходила проверка\n",
    "\n",
    "    @property\n",
    "    def value(self):\n",
    "        return self._value\n",
    "\n",
    "    @value.setter\n",
    "    def value(self, new_value):\n",
    "        self._value = new_value\n",
    "\n",
    "    @property\n",
    "    def unit(self):\n",
    "        return self._unit\n",
    "\n",
    "    @unit.setter\n",
    "    def unit(self, new_unit):\n",
    "        if new_unit not in self.units:\n",
    "            raise ValueError(f\"Недопустимая единица измерения: {new_unit}\")\n",
    "            # Исключительная ситуация: неправильная единица измерения\n",
    "        if self._unit is not None:  # Если уже установлена единица измерения, пересчитываем значение\n",
    "            self._value = self._value * self.units[self._unit] / self.units[new_unit]\n",
    "        self._unit = new_unit\n",
    "\n",
    "    def __str__(self):\n",
    "        return f\"{self._value} {self._unit}\"\n",
    "    \n",
    "    \n",
    "# Пример использования класса\n",
    "print('Возьмем как пример:')\n",
    "length = Length(150, 'см')  # Создаем объект с длиной 150 см\n",
    "print(length)  \n",
    "\n",
    "length.unit = 'м'  # Меняем единицу измерения на метры\n",
    "print('Изменим единицу измерения')\n",
    "print(length)  \n",
    "\n",
    "print('Поменяем значение:')\n",
    "length.value = 0.5  # Меняем значение\n",
    "print(length)  \n",
    "\n",
    "length.unit = 'км'  # Меняем единицу измерения на километры\n",
    "print('Изменим единицу измерения')\n",
    "print(length) \n",
    "\n",
    "print('Попытаемся установить недопустимую единицу измерения:')\n",
    "try:\n",
    "    length.unit = 'футы'\n",
    "except ValueError as e:\n",
    "    print(e)  "
   ]
  },
  {
   "cell_type": "markdown",
   "metadata": {},
   "source": [
    "2. Создайте класс Ведомость, имеющий\n",
    "атрибут класса:\n",
    "\n",
    "• список_дисциплин (значением является список с названиями дисциплин);\n",
    "\n",
    "свойства:\n",
    "\n",
    "• дисциплина (при задании значения проверять наличие дисциплины в атрибуте список_дисциплин),\n",
    "\n",
    "• группа;\n",
    "\n",
    "методы:\n",
    "\n",
    "• put – добавляет в ведомость информацию об оценке студента (фамилия, оценка – параметры метода). Для хранения данных внутри класса используйте словарь, в котором ключом является фамилия студента. Возможные оценки – «отлично», «хорошо», «удовл.», «неудовл.», «н/я»;\n",
    "\n",
    "• get – возвращает оценку, полученную студентом (фамилия студента – параметр метода);\n",
    "\n",
    "• change – изменяет оценку, полученную студентом (фамилия студента и новая оценка – параметры метода);\n",
    "\n",
    "• del – удаляет информацию о студенте из ведомости (фамилия студента – параметр метода);\n",
    "\n",
    "• result – возвращает кортеж из 5 чисел (количество каждого вида оценок в ведомости);\n",
    "\n",
    "• __init__ – конструктор;\n",
    "\n",
    "• __str__ – возвращает строку, содержащую заголовки (название экзамена, группа) и результаты экзамена в виде таблицы;\n",
    "\n",
    "• count – возвращает количество студентов в ведомости;\n",
    "\n",
    "• names – возвращает список фамилий, имеющихся в ведомости.\n",
    "\n",
    "Продемонстрируйте работу с классом. \n"
   ]
  },
  {
   "cell_type": "code",
   "execution_count": 21,
   "metadata": {},
   "outputs": [
    {
     "name": "stdout",
     "output_type": "stream",
     "text": [
      "Дисциплина: Математика, Группа: Группа 1\n",
      "Иванов - отлично\n",
      "Петров - хорошо\n",
      "Сидоров - удовл.\n",
      "Количество студентов: 3\n",
      "Список студентов: ['Иванов', 'Петров', 'Сидоров']\n",
      "Результаты: (1, 1, 1, 0, 0)\n",
      "Оценка Иванова: None\n",
      "Новая оценка Иванова: None\n",
      "После удаления Сидорова:\n",
      "Дисциплина: Математика, Группа: Группа 1\n",
      "Иванов - хорошо\n",
      "Петров - хорошо\n"
     ]
    }
   ],
   "source": [
    "# Решение 3.\n",
    "class Vedomost:\n",
    "    disciplines_list = ['Математика', 'Физика', 'Химия', 'История', 'Литература']\n",
    "\n",
    "    def __init__(self, discipline, group):\n",
    "        if discipline not in self.disciplines_list:\n",
    "            raise ValueError(f\"Дисциплина должна быть одной из следующих: {', '.join(self.disciplines_list)}\")\n",
    "        self.discipline = discipline\n",
    "        self.group = group\n",
    "        self.students = {}\n",
    "\n",
    "    def put(self, surname, grade):\n",
    "        if grade not in ['отлично', 'хорошо', 'удовл.', 'неудовл.', 'н/я']:\n",
    "            raise ValueError(\"Недопустимая оценка\")\n",
    "        self.students[surname] = grade\n",
    "\n",
    "    def get(self, surname):\n",
    "        return self.students.get(f'{surname} не найден')\n",
    "\n",
    "    def change(self, surname, new_grade):\n",
    "        if new_grade not in ['отлично', 'хорошо', 'удовл.', 'неудовл.', 'н/я']:\n",
    "            raise ValueError(\"Недопустимая оценка\")\n",
    "        if surname in self.students:\n",
    "            self.students[surname] = new_grade\n",
    "        else:\n",
    "            print(\"Студент не найден\")\n",
    "\n",
    "    def delete(self, surname):\n",
    "        if surname in self.students:\n",
    "            del self.students[surname]\n",
    "        else:\n",
    "            print(\"Студент не найден\")\n",
    "\n",
    "    def result(self):\n",
    "        grades = {'отлично': 0, 'хорошо': 0, 'удовл.': 0, 'неудовл.': 0, 'н/я': 0}\n",
    "        for grade in self.students.values():\n",
    "            if grade in grades:\n",
    "                grades[grade] += 1\n",
    "        return tuple(grades.values())\n",
    "\n",
    "    def __str__(self):\n",
    "        title = f\"Дисциплина: {self.discipline}, Группа: {self.group}\\n\"\n",
    "        table = \"\\n\".join([f\"{surname} - {grade}\" for surname, grade in self.students.items()])\n",
    "        return title + table\n",
    "\n",
    "    def count(self):\n",
    "        return len(self.students)\n",
    "\n",
    "    def names(self):\n",
    "        return list(self.students.keys())\n",
    "\n",
    "# Пример\n",
    "# Кладем в ведомость все данные:\n",
    "register = Vedomost(\"Математика\", \"Группа 1\")\n",
    "register.put(\"Иванов\", \"отлично\")\n",
    "register.put(\"Петров\", \"хорошо\")\n",
    "register.put(\"Сидоров\", \"удовл.\")\n",
    "\n",
    "print(register) # Выводим эти данные (далее тоже)\n",
    "print(\"Количество студентов:\", register.count())\n",
    "print(\"Список студентов:\", register.names())\n",
    "print(\"Результаты:\", register.result())\n",
    "\n",
    "print(\"Оценка Иванова:\", register.get(\"Иванов\"))\n",
    "register.change(\"Иванов\", \"хорошо\")\n",
    "print(\"Новая оценка Иванова:\", register.get(\"Иванов\"))\n",
    "\n",
    "register.delete(\"Сидоров\")\n",
    "print(\"После удаления Сидорова:\")\n",
    "print(register)"
   ]
  },
  {
   "cell_type": "markdown",
   "metadata": {},
   "source": [
    "3. Создайте класс Заказ(Order), у которого есть свойства код_товара(code), цена(price), количество(count) и методы __init__ и __str__.\n",
    "\n",
    "Создайте 2 класса-потомка: Опт(Opt) и Розница(Retail).\n",
    "В этих классах создайте методы __init__, __str__.и сумма_заказа(summa), позволяющий узнать стоимость заказа.\n",
    "Для опта стоимость единицы товара составляет 95% от цены, а при покупке более 500 штук – 90% цены.\n",
    "В розницу стоимость единицы товара составляет 100% цены. Стоимость заказа равна произведению цены на количество. \n",
    "\n",
    "Продемонстрируйте работу с классами, создав необходимые объекты и обратившись к их свойствам и методам\n"
   ]
  },
  {
   "cell_type": "code",
   "execution_count": 23,
   "metadata": {},
   "outputs": [
    {
     "name": "stdout",
     "output_type": "stream",
     "text": [
      "Оптом: Код товара: XYZ123, Цена: 100, Количество: 600\n",
      "Стоимость оптового заказа: 54000.0\n",
      "В розницу: Код товара: ABC456, Цена: 150, Количество: 10\n",
      "Стоимость розничного заказа: 1500\n"
     ]
    }
   ],
   "source": [
    "class Order:\n",
    "    def __init__(self, code, price, count):\n",
    "        self.code = code\n",
    "        self.price = price\n",
    "        self.count = count\n",
    "\n",
    "    def __str__(self):\n",
    "        return f\"Код товара: {self.code}, Цена: {self.price}, Количество: {self.count}\"\n",
    "\n",
    "\n",
    "class Opt(Order):\n",
    "    def __init__(self, code, price, count):\n",
    "        super().__init__(code, price, count)\n",
    "\n",
    "    def __str__(self):\n",
    "        return f\"Оптом: {super().__str__()}\"\n",
    "\n",
    "    def summa_zakaza(self):\n",
    "        if self.count > 500:\n",
    "            return self.price * self.count * 0.9\n",
    "        else:\n",
    "            return self.price * self.count * 0.95\n",
    "\n",
    "\n",
    "class Retail(Order):\n",
    "    def __init__(self, code, price, count):\n",
    "        super().__init__(code, price, count)\n",
    "\n",
    "    def __str__(self):\n",
    "        return f\"В розницу: {super().__str__()}\"\n",
    "\n",
    "    def summa_zakaza(self):\n",
    "        return self.price * self.count\n",
    "\n",
    "# Пример\n",
    "# Создаем заказ в оптовом и розничном вариантах\n",
    "opt_order = Opt(\"XYZ123\", 100, 600)\n",
    "retail_order = Retail(\"ABC456\", 150, 10)\n",
    "\n",
    "# Выводим о них информацию\n",
    "print(opt_order)\n",
    "print(\"Стоимость оптового заказа:\", opt_order.summa_zakaza())\n",
    "\n",
    "print(retail_order)\n",
    "print(\"Стоимость розничного заказа:\", retail_order.summa_zakaza())"
   ]
  },
  {
   "cell_type": "markdown",
   "metadata": {},
   "source": [
    "4. Написать функцию my_func_1(lst), которая переворачивает список вложенных списков с произвольным уровнем вложенности.\n",
    "Любой элемент, не являющийся списком, не должен быть изменен.\n",
    "\n",
    "Примеры, демонстрирующие ожидаемое поведение функции:\n",
    "\n",
    "assert my_func_1(42) == 42\n",
    "\n",
    "assert my_func_1([]) == []\n",
    "\n",
    "assert my_func_1([1, 2]) == [2, 1]\n",
    "\n",
    "assert my_func_1((1, 2)) == (1, 2)\n",
    "\n",
    "assert my_func_1([[1, 2], [3, [4, 5]], 6]) == [6, [[5, 4], 3], [2, 1]]\n",
    "\n",
    "assert my_func_1(['123', '456', '789', {10: [11, 12], 13: 14}, (15, 16)]) == [(15, 16), {10: [11, 12], 13: 14}, '789', '456', '123']\n",
    "\n",
    "assert my_func_1([[[[[1, 2]]]]]) == [[[[[2, 1]]]]]"
   ]
  },
  {
   "cell_type": "code",
   "execution_count": 28,
   "metadata": {},
   "outputs": [
    {
     "name": "stdout",
     "output_type": "stream",
     "text": [
      "Протестируем приведенные примеры: \n",
      "\n",
      "Тестируем пример 1:\n",
      "До: 42\n",
      "После:  42\n",
      "===\n",
      "Тестируем пример 2:\n",
      "До: []\n",
      "После:  []\n",
      "===\n",
      "Тестируем пример 3:\n",
      "До: [1, 2]\n",
      "После:  [2, 1]\n",
      "===\n",
      "Тестируем пример 4:\n",
      "До: (1, 2)\n",
      "После:  (1, 2)\n",
      "===\n",
      "Тестируем пример 5:\n",
      "До: [[1, 2], [3, [4, 5]], 6]\n",
      "После:  [6, [[5, 4], 3], [2, 1]]\n",
      "===\n",
      "Тестируем пример 6:\n",
      "До: ['123', '456', '789', {10: [11, 12], 13: 14}, (15, 16)]\n",
      "После:  [(15, 16), {10: [11, 12], 13: 14}, '789', '456', '123']\n",
      "===\n",
      "Тестируем пример 7:\n",
      "До: [[[[[1, 2]]]]]\n",
      "После:  [[[[[2, 1]]]]]\n"
     ]
    }
   ],
   "source": [
    "def my_func_1(lst):\n",
    "    if isinstance(lst, list):\n",
    "        return [my_func_1(item) for item in reversed(lst)]\n",
    "    else:\n",
    "        return lst\n",
    "\n",
    "# Тестовые случаи с выводом до и после преобразования\n",
    "testiy = [\n",
    "    42,\n",
    "    [],\n",
    "    [1, 2],\n",
    "    (1, 2),\n",
    "    [[1, 2], [3, [4, 5]], 6],\n",
    "    ['123', '456', '789', {10: [11, 12], 13: 14}, (15, 16)],\n",
    "    [[[[[1, 2]]]]]\n",
    "]\n",
    "\n",
    "print('Протестируем приведенные примеры: ')\n",
    "print()\n",
    "for i, test in enumerate(testiy):\n",
    "    result = my_func_1(test)\n",
    "    print(f\"Тестируем пример {i + 1}:\")\n",
    "    print(\"До:\", test)\n",
    "    print(\"После: \", result)\n",
    "    if i != len(test_cases)-1:\n",
    "        print(\"===\")\n"
   ]
  },
  {
   "cell_type": "markdown",
   "metadata": {},
   "source": [
    "5.При помощи механизма map/filter/reduce возвести в квадрат числа от 1 до 100, и рассчитать их сумму, не включая в сумму числа, кратные 9. Написать реализацию в одну строку."
   ]
  },
  {
   "cell_type": "code",
   "execution_count": 2,
   "metadata": {
    "scrolled": true
   },
   "outputs": [
    {
     "data": {
      "text/plain": [
       "225589"
      ]
     },
     "execution_count": 2,
     "metadata": {},
     "output_type": "execute_result"
    }
   ],
   "source": [
    "# Решение 5.\n",
    "from functools import reduce\n",
    "\n",
    "reduce(lambda x, y: x + y, filter(lambda x: x % 9 != 0, map(lambda x: x**2, range(1, 101))))"
   ]
  },
  {
   "cell_type": "markdown",
   "metadata": {},
   "source": [
    "6.Написать декоратор с параметром my_decorator(n). Декоратор превращает функцию, возвращающую поддерживающий итерации объект (далее \"последовательность\"), в функцию-генератор. Если декорируемая функция возвращает что-то другое, а не последовательность, то декоратор должен вернуть этот результат вызова функции без изменений.\n",
    "\n",
    "Проверку объекта можно организовать при помощи условия import collections if isinstance(item, collections.Iterable)\n",
    "\n",
    "Параметром декоратора может быть целое положительное число n, тогда получившаяся функция-декоратор должна генерировать по одному значению из последовательности, повторенной n раз. Также параметр может принимать строковое значение 'inf', тогда функция-декоратор генерирует по одному значению из последовательности, повторенной бесконечное число раз (зацикливает генерирование результата).\n",
    "\n",
    "Подсказка: сначала реализовать случай со значением аргумента 'inf', а затем модифицировать для целочисленного значения аргумента."
   ]
  },
  {
   "cell_type": "code",
   "execution_count": 9,
   "metadata": {},
   "outputs": [],
   "source": [
    "# Тут ошибка в условии. Разрешили не делать"
   ]
  }
 ],
 "metadata": {
  "kernelspec": {
   "display_name": "Python 3 (ipykernel)",
   "language": "python",
   "name": "python3"
  },
  "language_info": {
   "codemirror_mode": {
    "name": "ipython",
    "version": 3
   },
   "file_extension": ".py",
   "mimetype": "text/x-python",
   "name": "python",
   "nbconvert_exporter": "python",
   "pygments_lexer": "ipython3",
   "version": "3.10.9"
  }
 },
 "nbformat": 4,
 "nbformat_minor": 4
}
