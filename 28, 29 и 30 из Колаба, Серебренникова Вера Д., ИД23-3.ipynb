{
 "cells": [
  {
   "cell_type": "markdown",
   "id": "af0dbaab",
   "metadata": {},
   "source": [
    "#  6 вариант"
   ]
  },
  {
   "cell_type": "markdown",
   "id": "fea8b270",
   "metadata": {},
   "source": [
    "<div class=\"alert-success\">\n",
    "28. а) Возвести в квадрат и куб каждое число в заданном списке целых чисел с помощью лямбда-функции.\n",
    "б) Умножьте каждое число заданного списка на заданное число, при это используйте лямбда-функцию.\n",
    "в) Используйте лямбда-функцию для извлечения  𝑛\n",
    " -го элемента кортежа из заданного списка кортежей. Пример: дан список кортежей [('Greyson Fulton', 98, 99), ('Brady Kent', 97, 96), ('Wyatt Knott', 91, 94), ('Beau Turnbull', 94, 98)], при n = 0 → ['Greyson Fulton', 'Brady Kent', 'Wyatt Knott', 'Beau Turnbull'], при n = 2 → [99, 96, 94, 98]."
   ]
  },
  {
   "cell_type": "code",
   "execution_count": 11,
   "id": "fc30c3b7",
   "metadata": {},
   "outputs": [
    {
     "name": "stdout",
     "output_type": "stream",
     "text": [
      "а): [1, 4, 9, 16, 25], [1, 8, 27, 64, 125];\n",
      "б): [6, 7, 8, 9, 10];\n",
      "в): ['Greyson Fulton', 'Brady Kent', 'Wyatt Knott', 'Beau Turnbull'], [99, 96, 94, 98];\n"
     ]
    }
   ],
   "source": [
    "zad_sp = [1, 2, 3, 4, 5]  # Пример списка для задания а)\n",
    "scalar = 5  # Пример скалярного значения для задания б)\n",
    "# Примеры для задания в)\n",
    "primer_v = [('Greyson Fulton', 98, 99), ('Brady Kent', 97, 96), ('Wyatt Knott', 91, 94), ('Beau Turnbull', 94, 98)\n",
    "n_1 = 0 \n",
    "n_2 = 2  \n",
    "\n",
    "# а) Возводим каждый элемент списка в квадрат и в куб\n",
    "otvet_1a = list(map(lambda x: x**2, zad_sp))\n",
    "otvet_2a = list(map(lambda x: x**3, zad_sp))\n",
    "\n",
    "# б) Увеличиваем каждый элемент списка на значение scalar\n",
    "otvet_b = list(map(lambda x: x + scalar, zad_sp))\n",
    "\n",
    "# в) Извлекаем элементы из кортежа по заданным индексам\n",
    "otvet_1v = list(map(lambda x: x[n_1], primer_v))\n",
    "otvet_2v = list(map(lambda x: x[n_2], primer_v))\n",
    "\n",
    "# Выводим результаты\n",
    "print(f'а): {otvet_1a}, {otvet_2a};')  \n",
    "print(f'б): {otvet_b};')  \n",
    "print(f'в): {otvet_1v}, {otvet_2v};')  "
   ]
  },
  {
   "cell_type": "markdown",
   "id": "b3a4fba1",
   "metadata": {},
   "source": [
    "<div class=\"alert-success\">\n",
    "29. а) С использованием функции map() создайте список, содержащий заданные числа, возведенные в соответствующую степень. Пример: bases = [10, 20, 30, 40, 50, 60, 70, 80, 90, 100], exponents = [1, 2, 3, 4, 5, 6, 7, 8, 9, 10] → result = [10, 400, 27000, 2560000, 312500000, 46656000000, 8235430000000, 1677721600000000, 387420489000000000, 100000000000000000000].\n",
    "б) Сгенерировать список целых чисел. С помощью функции filter() выбрать из списка все числа больше 10 и упорядочить их по возрастанию. Используя функцию reduce(), найти их сумму."
   ]
  },
  {
   "cell_type": "code",
   "execution_count": 31,
   "id": "c36aa53c",
   "metadata": {},
   "outputs": [
    {
     "name": "stdout",
     "output_type": "stream",
     "text": [
      "а): [10, 400, 27000, 2560000, 312500000, 46656000000, 8235430000000, 1677721600000000, 387420489000000000, 100000000000000000000];\n",
      "\n",
      "б) Числа больше 10: [11, 12, 14, 15, 16, 17, 17, 18, 18, 21, 21, 23, 25, 26, 26, 27, 27, 29, 30, 30, 31, 31, 32, 32, 33, 33, 34, 36, 37, 38, 39, 40, 41, 42, 45, 45, 47, 49, 51, 52, 52, 52, 53, 55, 55, 55, 58, 59, 60, 61, 62, 62, 63, 63, 63, 64, 64, 67, 67, 70, 70, 71, 76, 76, 77, 79, 79, 81, 82, 84, 84, 85, 87, 87, 88, 88, 92, 92, 93, 93, 94, 95, 95, 96, 97, 99, 99, 100];\n",
      "Их сумма: 4855\n"
     ]
    }
   ],
   "source": [
    "# Пример входных данных для a):\n",
    "bases = [10, 20, 30, 40, 50, 60, 70, 80, 90, 100]\n",
    "exponents = [1, 2, 3, 4, 5, 6, 7, 8, 9, 10]\n",
    "\n",
    "# Для b):\n",
    "from random import randint \n",
    "primer = [randint(0, 100) for i in range(100)]\n",
    "\n",
    "# a) Возведение каждого элемента из списка bases в соответствующую степень из списка exponents\n",
    "result_a = list(map(lambda base, exponent: base**exponent, bases, exponents))\n",
    "\n",
    "# б) Фильтрация чисел в списке primer, сортировка их, а затем нахождение суммы отфильтрованных чисел\n",
    "result_1b = sorted(list(filter(lambda x: x > 10, primer)))  # Фильтрация чисел больше 10 и сортировка\n",
    "from functools import reduce\n",
    "result_2b = reduce(lambda x, y: x + y, result_1b)  # Нахождение суммы элементов списка\n",
    "\n",
    "# Вывод ответов на примеры\n",
    "print(f'а): {result_a};')  # Вывод результатов для а)\n",
    "print()\n",
    "print(f'б) Числа больше 10: {result_1b};') \n",
    "print(f'Их сумма: {result_2b}')  "
   ]
  },
  {
   "cell_type": "markdown",
   "id": "44b94c64",
   "metadata": {},
   "source": [
    "<div class=\"alert-success\">\n",
    "30. а) Создайте декоратор, который будет выводить на экран статистику вызовов функции и сохранять ее в текстовый файл.\n",
    "б) Создайте декоратор, который будет принимать несколько аргументов и передавать их в функцию в качестве позиционных параметров и ключевых параметров с заданными значениями по умолчанию."
   ]
  },
  {
   "cell_type": "code",
   "execution_count": 32,
   "id": "5a6828f5",
   "metadata": {},
   "outputs": [
    {
     "name": "stdout",
     "output_type": "stream",
     "text": [
      "Функция 'add' была вызвана 1 раз(а).\n",
      "Функция 'add' была вызвана 2 раз(а).\n",
      "Аргументы, переданные в декоратор: значение_арг1 значение_арг2 пользователь1 пользователь2\n",
      "Функция вызвана с аргументами: 3 5\n"
     ]
    }
   ],
   "source": [
    "#а) Создание декоратора, который будет выводить на экран статистику вызовов функции и сохранять ее в текстовый файл.\n",
    "def call_stats_decorator(func):\n",
    "    def wrapper(*args, **kwargs):\n",
    "        wrapper.calls += 1\n",
    "        result = func(*args, **kwargs)\n",
    "\n",
    "        # Вывод статистики на экран\n",
    "        print(f\"Функция '{func.__name__}' была вызвана {wrapper.calls} раз(а).\")\n",
    "\n",
    "        # Сохранение статистики в файл\n",
    "        with open(\"call_stats.txt\", \"a\") as file:\n",
    "            file.write(f\"Функция '{func.__name__}' была вызвана {wrapper.calls} раз(а).\\n\")\n",
    "\n",
    "        return result\n",
    "    wrapper.calls = 0\n",
    "    return wrapper\n",
    "\n",
    "# Пример использования декоратора\n",
    "@call_stats_decorator\n",
    "def add(a, b):\n",
    "    return a + b\n",
    "\n",
    "add(3, 5)\n",
    "add(7, 8)\n",
    "\n",
    "#б) Создание декоратора, который будет принимать несколько аргументов и передавать их в функцию в качестве позиционных параметров и ключевых параметров с заданными значениями по умолчанию.\n",
    "def arguments_decorator(arg1, arg2, kwarg1=\"по_умолчанию1\", kwarg2=\"по_умолчанию2\"):\n",
    "    def decorator(func):\n",
    "        def wrapper(*args, **kwargs):\n",
    "            print(\"Аргументы, переданные в декоратор:\", arg1, arg2, kwarg1, kwarg2)\n",
    "            result = func(*args, **kwargs)\n",
    "            return result\n",
    "        return wrapper\n",
    "    return decorator\n",
    "\n",
    "# Пример использования декоратора\n",
    "@arguments_decorator(\"значение_арг1\", \"значение_арг2\", kwarg1=\"пользователь1\", kwarg2=\"пользователь2\")\n",
    "def example_function(a, b):\n",
    "    print(\"Функция вызвана с аргументами:\", a, b)\n",
    "\n",
    "example_function(3, 5)"
   ]
  }
 ],
 "metadata": {
  "kernelspec": {
   "display_name": "Python 3 (ipykernel)",
   "language": "python",
   "name": "python3"
  },
  "language_info": {
   "codemirror_mode": {
    "name": "ipython",
    "version": 3
   },
   "file_extension": ".py",
   "mimetype": "text/x-python",
   "name": "python",
   "nbconvert_exporter": "python",
   "pygments_lexer": "ipython3",
   "version": "3.11.5"
  }
 },
 "nbformat": 4,
 "nbformat_minor": 5
}
