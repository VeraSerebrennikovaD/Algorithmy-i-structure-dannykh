{
 "cells": [
  {
   "cell_type": "code",
   "execution_count": 80,
   "id": "48be9055",
   "metadata": {},
   "outputs": [],
   "source": [
    "l1 = ['1', '123', '123', '12', '1', '123']\n",
    "l2 = [2, 4, -2, -3, 0 , 11 , 3 -1]\n",
    "\n",
    "d4 = {1: 10, 2: 20, 3: 30, 4: 40, 5: 50, 6: 60}\n",
    "d5 = {'a': 3, 'b': 4, 'c': 5, 'd': 6, 'e': 7, 'f': 8, 'g': 9}\n",
    "d6 = {'e': 20, 'f': 21, 'g': 22, 'h': 23, 'i': 24, 'j': 25, 'k': 26, 'l': 27}"
   ]
  },
  {
   "cell_type": "markdown",
   "id": "6595f7aa",
   "metadata": {},
   "source": [
    "<div class = \"alert-success\">\n",
    "4.13) Используюя список l1 создать список, в котором каждый элемент списка l1 будет заменен значением длинны строки соответствующего элемента в списке l1. Использовать генераторы, решить задачу в одну строку."
   ]
  },
  {
   "cell_type": "code",
   "execution_count": 72,
   "id": "78b4a346",
   "metadata": {},
   "outputs": [
    {
     "data": {
      "text/plain": [
       "[1, 3, 3, 2, 1, 3]"
      ]
     },
     "execution_count": 72,
     "metadata": {},
     "output_type": "execute_result"
    }
   ],
   "source": [
    "[len(i) for i in l1]"
   ]
  },
  {
   "cell_type": "markdown",
   "id": "4925000e",
   "metadata": {},
   "source": [
    "<div class = \"alert-success\">\n",
    "4.14) Подсчитать количество строк в списке l1, длина которых больше 2х. Использовать генераторы, решить задачу в одну строку."
   ]
  },
  {
   "cell_type": "code",
   "execution_count": 73,
   "id": "2e00754c",
   "metadata": {},
   "outputs": [
    {
     "name": "stdout",
     "output_type": "stream",
     "text": [
      "3\n",
      "3\n",
      "3\n"
     ]
    }
   ],
   "source": [
    "print(sum([1 for i in l1 if len(i)>2]))\n",
    "# Или то же самое без квадратных скобок\n",
    "print(sum(1 for x in l1 if len(x) > 2))\n",
    "# ИЛИ\n",
    "print(len([s for s in l1 if len(s) > 2]))"
   ]
  },
  {
   "cell_type": "markdown",
   "id": "c283ca57",
   "metadata": {},
   "source": [
    "<div class = \"alert-success\">\n",
    "4.15) Просуммировать произведение ключей на значения словаря d4."
   ]
  },
  {
   "cell_type": "code",
   "execution_count": 74,
   "id": "22f28bd2",
   "metadata": {
    "scrolled": false
   },
   "outputs": [
    {
     "name": "stdout",
     "output_type": "stream",
     "text": [
      "910\n",
      "910\n",
      "910\n"
     ]
    }
   ],
   "source": [
    "print(sum(i*k for i,k in d4.items()))\n",
    "# ИЛИ\n",
    "print(sum(key * value for key, value in zip(d4.keys(), d4.values())))\n",
    "# ИЛИ\n",
    "print(sum(map(lambda x: x[0] * x[1], d4.items())))"
   ]
  },
  {
   "cell_type": "markdown",
   "id": "3e583a11",
   "metadata": {},
   "source": [
    "<div class = \"alert-success\">\n",
    "4.16) На базе словаря d6 составить словарь d7 в котором нет пар ключ-значение с ключами, встречающимися в словаре d5. Использовать генераторы, решить задачу в одну строку."
   ]
  },
  {
   "cell_type": "code",
   "execution_count": 75,
   "id": "e4e59be6",
   "metadata": {},
   "outputs": [
    {
     "name": "stdout",
     "output_type": "stream",
     "text": [
      "{'h': 23, 'i': 24, 'j': 25, 'k': 26, 'l': 27}\n",
      "{'h': 23, 'i': 24, 'j': 25, 'k': 26, 'l': 27}\n"
     ]
    }
   ],
   "source": [
    "d7 = {key: value for (key, value) in d6.items() if key not in d5}\n",
    "print(d7)\n",
    "# ИЛИ\n",
    "d7 = {k: d6[k] for k in d6 if k not in d5}\n",
    "print(d7)"
   ]
  },
  {
   "cell_type": "markdown",
   "id": "405bd8b6",
   "metadata": {},
   "source": [
    "<div class = \"alert-success\">\n",
    "4.17) Создать список, в котором все числа списка l2 умножены на их номер в списке, остальные элементы сохранены на своих местах. Использовать генераторы, решить задачу в одну строку."
   ]
  },
  {
   "cell_type": "code",
   "execution_count": 76,
   "id": "526d8bfe",
   "metadata": {},
   "outputs": [
    {
     "name": "stdout",
     "output_type": "stream",
     "text": [
      "[2, 8, -6, -12, 0, 66, 14]\n",
      "[2, 8, -6, -12, 0, 66, 14]\n"
     ]
    }
   ],
   "source": [
    "print([i * l2[i - 1] for i in range(1, len(l2) + 1)])\n",
    "# ИЛИ\n",
    "print([x * i for i, x in enumerate(l2, 1)])\n",
    "\n",
    "# Функция enumerate() возвращает кортежи, содержащие индекс и значение элемента из списка l2. Параметр \n",
    "# 1 указывает, что перечисление должно начинаться с 1"
   ]
  },
  {
   "cell_type": "markdown",
   "id": "cef6eaf2",
   "metadata": {},
   "source": [
    "<div class = \"alert-success\">\n",
    "4.18) Создать список, в котором все отрицательные числа списка l2 исключены, остальные элементы сохранены на своих местах. Использовать генераторы, решить задачу в одну строку."
   ]
  },
  {
   "cell_type": "code",
   "execution_count": 77,
   "id": "25d96020",
   "metadata": {},
   "outputs": [
    {
     "name": "stdout",
     "output_type": "stream",
     "text": [
      "[2, 4, 0, 11, 2]\n",
      "[2, 4, 0, 11, 2]\n"
     ]
    }
   ],
   "source": [
    "print([i for i in l2 if i >= 0])\n",
    "# ИЛИ\n",
    "print([i for i in l2 if not (i < 0)])"
   ]
  },
  {
   "cell_type": "markdown",
   "id": "858efa37",
   "metadata": {},
   "source": [
    "<div class = \"alert-info\">\n",
    "\" Ноль не имеет знака; это число не положительно и не отрицательно. На числовой прямой число 0 разделяет положительные и отрицательные числа друг от друга.\""
   ]
  },
  {
   "cell_type": "markdown",
   "id": "ff1565f5",
   "metadata": {},
   "source": [
    "<div class = \"alert-success\">\n",
    "4.19) Создать список, в котором все отрицательные числа списка l2 заменены на их номер в списке, остальные элементы сохранены на своих местах. Использовать генераторы и тернарный оператор, решить задачу в одну строку."
   ]
  },
  {
   "cell_type": "code",
   "execution_count": 107,
   "id": "1ab66ec6",
   "metadata": {
    "scrolled": true
   },
   "outputs": [
    {
     "name": "stdout",
     "output_type": "stream",
     "text": [
      "[2, 4, 3, 4, 0, 11, 3, 8]\n",
      "[2, 4, 3, 4, 0, 11, 3, 8]\n"
     ]
    }
   ],
   "source": [
    "print([l2[i] if l2[i] >= 0 else i + 1 for i in range(len(l2))])\n",
    "# ИЛИ\n",
    "print([val if val >= 0 else idx + 1 for idx, val in enumerate(l2)])"
   ]
  },
  {
   "cell_type": "markdown",
   "id": "8490258a",
   "metadata": {},
   "source": [
    "<div class = \"alert-success\">\n",
    "5.1) Написать задокументированную функцию умножения двух чисел. Для каких типов данная функция будет возвращать практически ценный результат? Написать примеры использования этой функции."
   ]
  },
  {
   "cell_type": "code",
   "execution_count": 87,
   "id": "577e923d",
   "metadata": {},
   "outputs": [
    {
     "name": "stdout",
     "output_type": "stream",
     "text": [
      "Help on function multiply in module __main__:\n",
      "\n",
      "multiply(a, b)\n",
      "    Функция multiply принимает два аргумента a и b и возвращает их произведение.\n",
      "    \n",
      "    Аргументы функции:\n",
      "    a (int, float): Первый множитель.\n",
      "    b (int, float): Второй множитель.\n",
      "    \n",
      "    Возвращаемое значение:\n",
      "    int or float: Произведение двух чисел a и b.\n",
      "    \n",
      "    Примеры использования функции:\n",
      "    >>> multiply(2, 3)\n",
      "    6\n",
      "    >>> multiply(4.5, 2)\n",
      "    9.0\n",
      "\n",
      "None\n"
     ]
    }
   ],
   "source": [
    "def multiply(a, b):\n",
    "    \"\"\"\n",
    "    Функция multiply принимает два аргумента a и b и возвращает их произведение.\n",
    "\n",
    "    Аргументы функции:\n",
    "    a (int, float): Первый множитель.\n",
    "    b (int, float): Второй множитель.\n",
    "\n",
    "    Возвращаемое значение:\n",
    "    int or float: Произведение двух чисел a и b.\n",
    "\n",
    "    Примеры использования функции:\n",
    "    >>> multiply(2, 3)\n",
    "    6\n",
    "    >>> multiply(4.5, 2)\n",
    "    9.0\n",
    "    \"\"\"\n",
    "\n",
    "    return a * b\n",
    "\n",
    "print(help(multiply))"
   ]
  },
  {
   "cell_type": "markdown",
   "id": "c9e12165",
   "metadata": {},
   "source": [
    "<div class = \"alert-info\">\n",
    "Хороший комментарий к функции в Python может включать следующие важные сведения:\n",
    "\n",
    "1. Описание функции, включая ее назначение и то, что она делает.\n",
    "2. Аргументы функции: их названия и описания, включая их типы данных.\n",
    "3. Возвращаемое значение: тип данных, возвращаемое функцией.\n",
    "4. Примеры использования функции или важные уточнения, касающиеся ее функционала.\n",
    "5. Любые особенности использования или поведения функции, о которых пользователь должен знать.\n",
    "6. Обязательные или необязательные аргументы и их значения по умолчанию, если таковые присутствуют."
   ]
  },
  {
   "cell_type": "markdown",
   "id": "93caeac8",
   "metadata": {},
   "source": [
    "<div class = \"alert-success\">\n",
    "5.2) Написать функцию умножения принимающую от одного до трех параметров. Написать примеры использования этой функции с разным количеством параметров."
   ]
  },
  {
   "cell_type": "code",
   "execution_count": 94,
   "id": "49e6dfe5",
   "metadata": {},
   "outputs": [
    {
     "name": "stdout",
     "output_type": "stream",
     "text": [
      "Help on function multiply in module __main__:\n",
      "\n",
      "multiply(*args)\n",
      "    Функция multiply принимает от одного до трех аргументов и возвращает их произведение.\n",
      "    \n",
      "    Аргументы функции:\n",
      "    args (int, float): От 1 до 3 множителей.\n",
      "    \n",
      "    Возвращаемое значение:\n",
      "    int or float: Произведение входных чисел.\n",
      "    \n",
      "    Примеры использования функции:\n",
      "    >>> multiply(2, 3)\n",
      "    6\n",
      "    >>> multiply(4, 5, 6)\n",
      "    120\n",
      "    >>> multiply(2.5)\n",
      "    2.5\n",
      "\n",
      "None\n",
      "Help on function multiply_2 in module __main__:\n",
      "\n",
      "multiply_2(a, b=1, c=None)\n",
      "    Функция multiply_2 умножает от одного до трех чисел.\n",
      "    \n",
      "    Аргументы:\n",
      "    a (int or float): Первое число.\n",
      "    b (int or float): Второе число. По умолчанию 1.\n",
      "    c (int or float): Третье число. По умолчанию None.\n",
      "    \n",
      "    Возвращаемое значение:\n",
      "    int or float: Произведение входных чисел.\n",
      "    \n",
      "    Примеры использования функции:\n",
      "    >>> multiply_2(3, 4)\n",
      "    12\n",
      "    >>> multiply_2(3, 4, 2)\n",
      "    24\n",
      "    >>> multiply_2(3)\n",
      "    3\n",
      "\n",
      "None\n"
     ]
    }
   ],
   "source": [
    "def multiply(*args):\n",
    "    \"\"\"\n",
    "    Функция multiply принимает от одного до трех аргументов и возвращает их произведение.\n",
    "\n",
    "    Аргументы функции:\n",
    "    args (int, float): От 1 до 3 множителей.\n",
    "\n",
    "    Возвращаемое значение:\n",
    "    int or float: Произведение входных чисел.\n",
    "\n",
    "    Примеры использования функции:\n",
    "    >>> multiply(2, 3)\n",
    "    6\n",
    "    >>> multiply(4, 5, 6)\n",
    "    120\n",
    "    >>> multiply(2.5)\n",
    "    2.5\n",
    "    \"\"\"\n",
    "\n",
    "    result = 1\n",
    "    for num in args:\n",
    "        result *= num\n",
    "    return result\n",
    "\n",
    "print(help(multiply))\n",
    "\n",
    "# ИЛИ\n",
    "\n",
    "def multiply_2(a, b = 1, c=None):\n",
    "    \"\"\"\n",
    "    Функция multiply_2 умножает от одного до трех чисел.\n",
    "\n",
    "    Аргументы:\n",
    "    a (int or float): Первое число.\n",
    "    b (int or float): Второе число. По умолчанию 1.\n",
    "    c (int or float): Третье число. По умолчанию None.\n",
    "\n",
    "    Возвращаемое значение:\n",
    "    int or float: Произведение входных чисел.\n",
    "\n",
    "    Примеры использования функции:\n",
    "    >>> multiply_2(3, 4)\n",
    "    12\n",
    "    >>> multiply_2(3, 4, 2)\n",
    "    24\n",
    "    >>> multiply_2(3)\n",
    "    3\n",
    "    \"\"\"\n",
    "    if c is None:\n",
    "        return a * b\n",
    "    else:\n",
    "        return a * b * c\n",
    "    \n",
    "print(help(multiply_2))"
   ]
  },
  {
   "cell_type": "markdown",
   "id": "0b4d1321",
   "metadata": {},
   "source": [
    "<div class = \"alert-success\">\n",
    "5.3) Функцию из задания 2 вызвать с приведенными ниже аргументами. Для случая a4 выбрать 3 первых и 3 последних значения."
   ]
  },
  {
   "cell_type": "code",
   "execution_count": 79,
   "id": "80d20738",
   "metadata": {},
   "outputs": [],
   "source": [
    "a1 = (15, 10 ,5)\n",
    "a2 = (3, 1)\n",
    "a3 = [2, 35, 55]\n",
    "a4 = (5, 10 ,15, 20)"
   ]
  },
  {
   "cell_type": "code",
   "execution_count": 97,
   "id": "dd140e4a",
   "metadata": {},
   "outputs": [
    {
     "name": "stdout",
     "output_type": "stream",
     "text": [
      "750\n",
      "3\n",
      "3850\n",
      "15000\n"
     ]
    }
   ],
   "source": [
    "# \"звездочка\" (*) для распаковки этих аргументов и передачи их в функцию\n",
    "\n",
    "print(multiply(*a1))\n",
    "print(multiply(*a2))\n",
    "print(multiply(*a3))\n",
    "print(multiply(*a4))"
   ]
  },
  {
   "cell_type": "markdown",
   "id": "dbfdc057",
   "metadata": {},
   "source": [
    "<div class = \"alert-success\">\n",
    "5.4) Реализовать функцию умножения, принимающую неограниченное количество значений. Написать примеры использования этой функции, в том числе с аргументами из задания 3."
   ]
  },
  {
   "cell_type": "code",
   "execution_count": 98,
   "id": "cadd2abe",
   "metadata": {},
   "outputs": [
    {
     "name": "stdout",
     "output_type": "stream",
     "text": [
      "750\n",
      "3\n",
      "3850\n",
      "15000\n"
     ]
    }
   ],
   "source": [
    "def multiply(*args):\n",
    "    # (*args) позволяет передавать любое количество аргументов в функцию.\n",
    "    result = 1  # Инициализация результата умножения.\n",
    "    # Проход по всем переданным аргументам.\n",
    "    for num in args:\n",
    "        result *= num  # Умножение текущего числа на результат.\n",
    "    return result  # Возвращение итогового результата.\n",
    "\n",
    "# Вызов функции multiply с различными наборами аргументов:\n",
    "# Пример 1:\n",
    "print(multiply(*a1))\n",
    "# Пример 2:\n",
    "print(multiply(*a2))\n",
    "# Пример 3:\n",
    "print(multiply(*a3))\n",
    "# Пример 4:\n",
    "print(multiply(*a4))"
   ]
  },
  {
   "cell_type": "markdown",
   "id": "769ebde2",
   "metadata": {},
   "source": [
    "<div class = \"alert-success\">\n",
    "5.5) Реализовать функции для выполнения четырех арифмитических операций преобразующих целые числа в целое число. Для двух заранее заданных целых чисел выполнить выбранную пользователем арифметическую операцию."
   ]
  },
  {
   "cell_type": "code",
   "execution_count": 1,
   "id": "84349093",
   "metadata": {},
   "outputs": [
    {
     "name": "stdout",
     "output_type": "stream",
     "text": [
      "Выберите арифметическую операцию: *\n",
      "6\n"
     ]
    }
   ],
   "source": [
    "# Два заранее заданных целых числа:\n",
    "a = 3\n",
    "b = 2\n",
    "# Запрос пользователя на выбор арифметической операции.\n",
    "operation = input('Выберите арифметическую операцию: ')\n",
    "\n",
    "def calc(expression):\n",
    "    try:\n",
    "        # Выполнение выражения с помощью функции eval().\n",
    "        # В Python функция eval() позволяет интерпретировать строку как выражение и запустить его. \n",
    "        # Например, если у вас есть строка, представляющая математическое выражение, то eval() выполнит это выражение.\n",
    "        result = eval(expression)\n",
    "        # Преобразование результата в целое число и возврат.\n",
    "        return int(result)\n",
    "    except Exception as e:\n",
    "        # Обработка исключения при ошибке в выражении.\n",
    "        return f\"Ошибка: {e}\"\n",
    "\n",
    "# Пример использования функции calc для вычисления выражения с использованием заданных чисел.\n",
    "result1 = calc(f'{a} {operation} {b}')  \n",
    "print(result1)"
   ]
  },
  {
   "cell_type": "markdown",
   "id": "d2346547",
   "metadata": {},
   "source": [
    "2 способ"
   ]
  },
  {
   "cell_type": "code",
   "execution_count": 2,
   "id": "1d5cdf4d",
   "metadata": {},
   "outputs": [
    {
     "name": "stdout",
     "output_type": "stream",
     "text": [
      "Выберите арифметическую операцию: *\n",
      "6\n"
     ]
    }
   ],
   "source": [
    "# Задание двух заранее определенных целых чисел:\n",
    "a = 3\n",
    "b = 2\n",
    "\n",
    "# Запрос у пользователя выбора арифметической операции:\n",
    "operation = input('Выберите арифметическую операцию: ')\n",
    "\n",
    "# Определение функций для выполнения арифметических операций:\n",
    "def add(a, b):\n",
    "    return int(a + b)\n",
    "\n",
    "def subtract(a, b):\n",
    "    return int(a - b)\n",
    "\n",
    "def multiply(a, b):\n",
    "    return int(a * b)\n",
    "\n",
    "def divide(a, b):\n",
    "    return int(a / b)\n",
    "\n",
    "# Проверка выбранной операции и вызов соответствующей функции:\n",
    "if operation in ('плюс', '+'):\n",
    "    print(add(a, b))  # Выполнение операции сложения и вывод результата.\n",
    "elif operation in ('минус', '-'):\n",
    "    print(subtract(a, b))  # Выполнение операции вычитания и вывод результата.\n",
    "elif operation in ('умножить на', '*'):\n",
    "    print(multiply(a, b))  # Выполнение операции умножения и вывод результата.\n",
    "elif operation in ('разделить на', '/'):\n",
    "    print(divide(a, b))  # Выполнение операции деления и вывод результата.\n",
    "else:\n",
    "    print(\"Неверный ввод\")  # В случае некорректного ввода операции выводится сообщение об ошибке."
   ]
  },
  {
   "cell_type": "markdown",
   "id": "4653ed3f",
   "metadata": {},
   "source": [
    "<div class = \"alert-success\">\n",
    "5.6) Написать калькулятор для строковых выражений вида '<число> <операция> <число>', где <число> - целое число, например 113, <арифмитическая операция> - одна из операций +,-,*,/(деление нацело),%(остаток от деления),^(возведение в степень). Пример calc('13 - 5') -> 8"
   ]
  },
  {
   "cell_type": "code",
   "execution_count": 3,
   "id": "0ebaf94d",
   "metadata": {},
   "outputs": [
    {
     "name": "stdout",
     "output_type": "stream",
     "text": [
      "8\n"
     ]
    }
   ],
   "source": [
    "def calc(expression):\n",
    "    try:\n",
    "        result = eval(expression)  # Попытка выполнить выражение с помощью eval.\n",
    "        # В Python функция eval() позволяет интерпретировать строку как выражение и запустить его. \n",
    "        # Например, если у вас есть строка, представляющая математическое выражение, то eval() выполнит это выражение.\n",
    "        return result  \n",
    "    except Exception as e:\n",
    "        return f\"Ошибка: {e}\"  # Обработка исключений, если вычисление не удалось.\n",
    "# Пример использования функции calc для вычисления выражения \"13 - 5\":\n",
    "result1 = calc('13 - 5')  \n",
    "print(result1)"
   ]
  },
  {
   "cell_type": "markdown",
   "id": "f580a9da",
   "metadata": {},
   "source": [
    "2 способ"
   ]
  },
  {
   "cell_type": "code",
   "execution_count": 3,
   "id": "460c9f59",
   "metadata": {},
   "outputs": [
    {
     "name": "stdout",
     "output_type": "stream",
     "text": [
      "8\n"
     ]
    }
   ],
   "source": [
    "def calc(primer):\n",
    "    # Разбиение входной строки на список элементов по пробелам.\n",
    "    primer = primer.split()\n",
    "    # Извлечение первого и второго чисел из списка primer.\n",
    "    num1 = int(primer[0])\n",
    "    num2 = int(primer[2])\n",
    "    # Получение операции из primer.\n",
    "    op = primer[1]\n",
    "    # Проверка типа операции и выполнение соответствующего действия.\n",
    "    if op == '+':  # Сложение\n",
    "        print(num1 + num2)\n",
    "    elif op == '-':  # Вычитание\n",
    "        print(num1 - num2)\n",
    "    elif op == '*':  # Умножение\n",
    "        print(num1 * num2)\n",
    "    elif op == '/':  # Целочисленное деление\n",
    "        print(num1 // num2)\n",
    "    elif op == '%':  # Остаток от деления\n",
    "        print(num1 % num2)\n",
    "    elif op == '^':  # Возведение в степень\n",
    "        print(num1 ** num2)\n",
    "    else:\n",
    "        print(\"Недопустимая операция\")\n",
    "# Вызов функции calc с аргументом '13 - 5':\n",
    "calc('13 - 5')"
   ]
  },
  {
   "cell_type": "markdown",
   "id": "1c1dc4ab",
   "metadata": {},
   "source": [
    "<div class = \"alert-success\">\n",
    "5.7) Реализовать функцию которая выводит на экран сообщение вида:\n",
    "'Автомобиль марки: BMW, модели: X5, цвета: белый, 2006 года выпуска, с пробегом: 215 000 км, c номерным знаком: X012АМ77, цена: 1 115 000 руб.'\n",
    "В функцию передаются именованные параметры изменяемой части сообщения, лубой из параметров может быть не задан пользователем функции и автоматически заменен на разумное сообщение в соответствующей части строки. Получить вывод текстового сообщения для словарей c1, c2."
   ]
  },
  {
   "cell_type": "code",
   "execution_count": 9,
   "id": "251216aa",
   "metadata": {
    "scrolled": true
   },
   "outputs": [
    {
     "name": "stdout",
     "output_type": "stream",
     "text": [
      "Автомобиль марки: BMW; модели: X5; цвета: белый; 2006 года выпуска; с пробегом: 215 000 км; с номерным знаком: X012AM77; цена: 1 115 000 руб; \n",
      "Автомобиль марки: Mercedes; модели: E-Class; 2015 года выпуска; с пробегом: 130 000 км; цена: 2 500 000 руб; \n"
     ]
    }
   ],
   "source": [
    "def car_info(brand=None, model=None, color=None, year=None, mileage=None, number=None, price=None):\n",
    "    # Инициализация пустой строки для хранения сообщения о информации об автомобиле.\n",
    "    message = ''\n",
    "    # Добавление информации об автомобиле в строку сообщения, если она предоставлена.\n",
    "    if brand:\n",
    "        message += f'Автомобиль марки: {brand}; '\n",
    "    if model:\n",
    "        message += f'модели: {model}; '\n",
    "    if color:\n",
    "        message += f'цвета: {color}; '\n",
    "    if year:\n",
    "        message += f'{year} года выпуска; '\n",
    "    if mileage:\n",
    "        message += f'с пробегом: {mileage} км; '\n",
    "    if number:\n",
    "        message += f'с номерным знаком: {number}; '\n",
    "    if price:\n",
    "        message += f'цена: {price} руб; '\n",
    "\n",
    "    # Вывод информации об автомобиле на экран.\n",
    "    print(message)\n",
    "\n",
    "# Пример использования для произвольных словарей c1 и c2\n",
    "c1 = {'brand': 'BMW', 'model': 'X5', 'color': 'белый', 'year': 2006, 'mileage': '215 000', 'number': 'X012AM77', 'price': '1 115 000'}\n",
    "c2 = {'brand': 'Mercedes', 'model': 'E-Class', 'year': 2015, 'mileage': '130 000', 'price': '2 500 000'}\n",
    "# Вывод информации о двух автомобилях с использованием функции car_info и распаковки словарей.\n",
    "car_info(**c1)\n",
    "car_info(**c2)"
   ]
  },
  {
   "cell_type": "markdown",
   "id": "b9ba2288",
   "metadata": {},
   "source": [
    "2 способ"
   ]
  },
  {
   "cell_type": "code",
   "execution_count": 12,
   "id": "a0080c22",
   "metadata": {},
   "outputs": [
    {
     "name": "stdout",
     "output_type": "stream",
     "text": [
      "Автомобиль марки: BMW, модели: X5, цвета: белый, 2006 года выпуска, с пробегом: 215 000 км, с номерным знаком: X012AM77, цена: 1 115 000 руб.\n",
      "Автомобиль марки: Mercedes, модели: E-Class, цвета: отсутствует информация, 2015 года выпуска, с пробегом: 130 000 км, с номерным знаком: отсутствует информация, цена: 2 500 000 руб.\n"
     ]
    }
   ],
   "source": [
    "def car_info(brand='отсутствует информация', model='отсутствует информация', color='отсутствует информация', year='отсутствует информация', mileage='отсутствует информация', number='отсутствует информация', price='отсутствует информация'):\n",
    "    # Формирование сообщения об автомобиле с учетом предоставленных данных.\n",
    "    message = f\"Автомобиль марки: {brand}, модели: {model}, цвета: {color}, {year} года выпуска, с пробегом: {mileage} км, с номерным знаком: {number}, цена: {price} руб.\"\n",
    "    # Вывод сообщения на экран.\n",
    "    print(message) \n",
    "\n",
    "# Пример использования для произвольных словарей c1 и c2\n",
    "c1 = {'brand': 'BMW', 'model': 'X5', 'color': 'белый', 'year': 2006, 'mileage': '215 000', 'number': 'X012AM77', 'price': '1 115 000'}\n",
    "c2 = {'brand': 'Mercedes', 'model': 'E-Class', 'year': 2015, 'mileage': '130 000', 'price': '2 500 000'}\n",
    "# Вывод информации о двух автомобилях с использованием функции car_info и распаковки словарей.\n",
    "car_info(**c1)\n",
    "car_info(**c2)"
   ]
  },
  {
   "cell_type": "markdown",
   "id": "fda7db0e",
   "metadata": {},
   "source": [
    "<div class = \"alert-success\">\n",
    "5.8) Написать функцию, которая преобразует целое число (от 0 до 99) в текстовое написание числа на русском языке. Пример: to_text(15) -> 'Пятнадцать'"
   ]
  },
  {
   "cell_type": "code",
   "execution_count": 13,
   "id": "a36f9049",
   "metadata": {},
   "outputs": [
    {
     "name": "stdout",
     "output_type": "stream",
     "text": [
      "пятнадцать\n",
      "тридцать пять\n",
      "двадцать\n",
      "девяносто девять\n"
     ]
    }
   ],
   "source": [
    "def to_text(number):\n",
    "    # Словарь для чисел от 0 до 19.\n",
    "    num_dict_1_19 = {\n",
    "        0: 'ноль', 1: 'один', 2: 'два', 3: 'три', 4: 'четыре', 5: 'пять',\n",
    "        6: 'шесть', 7: 'семь', 8: 'восемь', 9: 'девять', 10: 'десять',\n",
    "        11: 'одиннадцать', 12: 'двенадцать', 13: 'тринадцать', 14: 'четырнадцать',\n",
    "        15: 'пятнадцать', 16: 'шестнадцать', 17: 'семнадцать', 18: 'восемнадцать',\n",
    "        19: 'девятнадцать'\n",
    "    }\n",
    "    # Словарь для десятков.\n",
    "    num_dict_tens = {\n",
    "        2: 'двадцать', 3: 'тридцать', 4: 'сорок', 5: 'пятьдесят', 6: 'шестьдесят',\n",
    "        7: 'семьдесят', 8: 'восемьдесят', 9: 'девяносто'\n",
    "    }\n",
    "    # Если число меньше 20, возвращаем его текстовое представление из первого словаря.\n",
    "    if number < 20:\n",
    "        return num_dict_1_19[number]\n",
    "    else:\n",
    "        # Иначе, получаем десятки и единицы числа и формируем текстовое представление.\n",
    "        tens = num_dict_tens[number // 10]\n",
    "        ones = num_dict_1_19[number % 10]\n",
    "        # Если единицы равны нулю, возвращаем только десятки.\n",
    "        if ones == 'ноль':\n",
    "            return tens\n",
    "        else:\n",
    "            return f\"{tens} {ones}\"\n",
    "# Пример использования\n",
    "result1 = to_text(15)  # Результат: 'пятнадцать'\n",
    "result2 = to_text(35)  # Результат: 'тридцать пять'\n",
    "result3 = to_text(20)  # Результат: 'двадцать'\n",
    "result4 = to_text(99)  # Результат: 'девяносто девять'\n",
    "# Вывод результатов\n",
    "print(result1)\n",
    "print(result2)\n",
    "print(result3)\n",
    "print(result4)"
   ]
  },
  {
   "cell_type": "markdown",
   "id": "6194d2b6",
   "metadata": {},
   "source": [
    "<div class = \"alert-success\">\n",
    "5.9) Написать функцию, которая преобразует целое число (от 0 до 999) из текстового представления на руссокм языке в число типа int. Пример: to_int('тридцать три') -> 33"
   ]
  },
  {
   "cell_type": "code",
   "execution_count": 14,
   "id": "f92507ef",
   "metadata": {},
   "outputs": [
    {
     "name": "stdout",
     "output_type": "stream",
     "text": [
      "33\n",
      "123\n"
     ]
    }
   ],
   "source": [
    "def to_int(text):\n",
    "    # Словари, содержащие соответствия слов и чисел для единиц, десятков и сотен.\n",
    "    num_dict_1_19 = {\n",
    "        'ноль': 0, 'один': 1, 'два': 2, 'три': 3, 'четыре': 4, 'пять': 5,\n",
    "        'шесть': 6, 'семь': 7, 'восемь': 8, 'девять': 9, 'десять': 10,\n",
    "        'одиннадцать': 11, 'двенадцать': 12, 'тринадцать': 13, 'четырнадцать': 14,\n",
    "        'пятнадцать': 15, 'шестнадцать': 16, 'семнадцать': 17, 'восемнадцать': 18,\n",
    "        'девятнадцать': 19\n",
    "    }\n",
    "    num_dict_tens = {\n",
    "        'двадцать': 20, 'тридцать': 30, 'сорок': 40, 'пятьдесят': 50, 'шестьдесят': 60,\n",
    "        'семьдесят': 70, 'восемьдесят': 80, 'девяносто': 90\n",
    "    }\n",
    "    num_dict_hundreds = {\n",
    "        'сто': 100, 'двести': 200, 'триста': 300, 'четыреста': 400, 'пятьсот': 500,\n",
    "        'шестьсот': 600, 'семьсот': 700, 'восемьсот': 800, 'девятьсот': 900\n",
    "    }\n",
    "    # Разбиваем текстовое представление на слова\n",
    "    words = text.split()\n",
    "    number = 0  # Начальное значение числа\n",
    "    # Проходим по списку слов и складываем значения словарей\n",
    "    for word in words:\n",
    "        if word in num_dict_hundreds:  # Если это сотня\n",
    "            number += num_dict_hundreds[word]\n",
    "        elif word in num_dict_tens:  # Если это десяток\n",
    "            number += num_dict_tens[word]\n",
    "        elif word in num_dict_1_19:  # Если это число от 1 до 19\n",
    "            number += num_dict_1_19[word]\n",
    "\n",
    "    return number\n",
    "\n",
    "# Пример использования\n",
    "result1 = to_int('тридцать три')  # Результат: 33\n",
    "result2 = to_int('сто двадцать три')  # Результат: 123\n",
    "print(result1)\n",
    "print(result2)"
   ]
  },
  {
   "cell_type": "markdown",
   "id": "7887f4a2",
   "metadata": {},
   "source": [
    "2 способ (words2numrus)"
   ]
  },
  {
   "cell_type": "code",
   "execution_count": 8,
   "id": "d6225f82",
   "metadata": {},
   "outputs": [
    {
     "name": "stdout",
     "output_type": "stream",
     "text": [
      "33\n",
      "123\n"
     ]
    }
   ],
   "source": [
    "from words2numsrus import NumberExtractor\n",
    "\n",
    "# Определение функции to_int, которая использует библиотеку words2numsrus для преобразования числительных в числа\n",
    "def to_int(text):\n",
    "    # Создание экземпляра класса NumberExtractor\n",
    "    # NumberExtractor() - это функция, которая извлекает числа из строкового ввода. \n",
    "    # Например, если у вас есть строка \"двадцать два\", то функция NumberExtractor() может извлечь \n",
    "    # число 22 из этой строки, но для этого нужно применить replace_groups\n",
    "    extractor = NumberExtractor()\n",
    "    # Вызов метода replace_groups для преобразования числительных в числа в тексте\n",
    "    return extractor.replace_groups(text)\n",
    "\n",
    "# Пример использования функции to_int для преобразования текстовых числительных в числа\n",
    "result1 = to_int('тридцать три')  # Результат: 33\n",
    "result2 = to_int('сто двадцать три')  # Результат: 123\n",
    "\n",
    "# Вывод результатов\n",
    "print(result1)\n",
    "print(result2)"
   ]
  },
  {
   "cell_type": "markdown",
   "id": "fcf19adc",
   "metadata": {},
   "source": [
    "<div class = \"alert-success\">\n",
    "\n",
    "6.1) Написать калькулятор для строковых выражений вида '<число> <операция> <число>', где <число> - не отрицательное целое число меньшее 100, записанное словами, например \"тридцать четыре\", <арифмитическая операция> - одна из операций \"плюс\",\"минус\",\"умножить\". Результат выполнения операции вернуть в виде текстового представления числа. Пример calc('двадцать пять плюс тринадцать') -> \"тридцать восемь\""
   ]
  },
  {
   "cell_type": "code",
   "execution_count": 12,
   "id": "ced5a7ef",
   "metadata": {},
   "outputs": [
    {
     "name": "stdout",
     "output_type": "stream",
     "text": [
      "Requirement already satisfied: words2numsrus in c:\\users\\user\\anaconda3\\lib\\site-packages (0.1.0)\n",
      "Requirement already satisfied: natasha<1 in c:\\users\\user\\anaconda3\\lib\\site-packages (from words2numsrus) (0.10.0)\n",
      "Requirement already satisfied: yargy<0.13 in c:\\users\\user\\anaconda3\\lib\\site-packages (from words2numsrus) (0.12.0)\n",
      "Requirement already satisfied: pymorphy2==0.8 in c:\\users\\user\\anaconda3\\lib\\site-packages (from yargy<0.13->words2numsrus) (0.8)\n",
      "Requirement already satisfied: backports.functools-lru-cache==1.3 in c:\\users\\user\\anaconda3\\lib\\site-packages (from yargy<0.13->words2numsrus) (1.3)\n",
      "Requirement already satisfied: dawg-python>=0.7 in c:\\users\\user\\anaconda3\\lib\\site-packages (from pymorphy2==0.8->yargy<0.13->words2numsrus) (0.7.2)\n",
      "Requirement already satisfied: pymorphy2-dicts<3.0,>=2.4 in c:\\users\\user\\anaconda3\\lib\\site-packages (from pymorphy2==0.8->yargy<0.13->words2numsrus) (2.4.393442.3710985)\n",
      "Requirement already satisfied: docopt>=0.6 in c:\\users\\user\\anaconda3\\lib\\site-packages (from pymorphy2==0.8->yargy<0.13->words2numsrus) (0.6.2)\n"
     ]
    }
   ],
   "source": [
    "# !pip install words2numsrus"
   ]
  },
  {
   "cell_type": "code",
   "execution_count": 9,
   "id": "8ec11890",
   "metadata": {},
   "outputs": [
    {
     "name": "stdout",
     "output_type": "stream",
     "text": [
      "тридцать восемь\n"
     ]
    }
   ],
   "source": [
    "def word_to_num(word):\n",
    "    # Словарь для соответствия слов числам\n",
    "    numbers_dict = {\n",
    "        'ноль': 0, 'один': 1, 'два': 2, 'три': 3, 'четыре': 4,\n",
    "        'пять': 5, 'шесть': 6, 'семь': 7, 'восемь': 8, 'девять': 9,\n",
    "        'десять': 10, 'одиннадцать': 11, 'двенадцать': 12, 'тринадцать': 13,\n",
    "        'четырнадцать': 14, 'пятнадцать': 15, 'шестнадцать': 16, 'семнадцать': 17,\n",
    "        'восемнадцать': 18, 'девятнадцать': 19, 'двадцать': 20, 'тридцать': 30,\n",
    "        'сорок': 40, 'пятьдесят': 50, 'шестьдесят': 60, 'семьдесят': 70,\n",
    "        'восемьдесят': 80, 'девяносто': 90\n",
    "    }\n",
    "    # Разбиваем слово на части\n",
    "    parts = word.split()\n",
    "    \n",
    "    # Переменная для хранения результата\n",
    "    result = 0\n",
    "    \n",
    "    for part in parts:\n",
    "        if part in numbers_dict:\n",
    "            # Добавляем число, соответствующее слову, к результату\n",
    "            result += numbers_dict[part]\n",
    "        else:\n",
    "            # Обработка исключительной ситуации, если в слове содержится неизвестное значение\n",
    "            return \"Ошибка: Неизвестное слово\"\n",
    "    \n",
    "    return result\n",
    "\n",
    "def calc(expression):\n",
    "    # Разбиваем строку на части: число1, операция, число2\n",
    "    parts = expression.split()\n",
    "    \n",
    "    # Преобразуем слова в числа\n",
    "    num1 = word_to_num(' '.join(parts[:parts.index('плюс')])) if 'плюс' in parts else word_to_num(' '.join(parts[:parts.index('минус')]))\n",
    "    num2 = word_to_num(' '.join(parts[parts.index('плюс') + 1:])) if 'плюс' in parts else word_to_num(' '.join(parts[parts.index('минус') + 1:]))\n",
    "    \n",
    "    # Выполняем математическую операцию\n",
    "    if 'плюс' in parts:\n",
    "        result = num1 + num2\n",
    "    elif 'минус' in parts:\n",
    "        result = num1 - num2\n",
    "    elif 'умножить' in parts:\n",
    "        result = num1 * num2\n",
    "    else:\n",
    "        return \"Неподдерживаемая операция\n",
    "    # Словарь для преобразования чисел в слова\n",
    "    numbers_to_words_dict = {\n",
    "        0: 'ноль', 1: 'один', 2: 'два', 3: 'три', 4: 'четыре', 5: 'пять',\n",
    "        6: 'шесть', 7: 'семь', 8: 'восемь', 9: 'девять', 10: 'десять',\n",
    "        11: 'одиннадцать', 12: 'двенадцать', 13: 'тринадцать', 14: 'четырнадцать', 15: 'пятнадцать',\n",
    "        16: 'шестнадцать', 17: 'семнадцать', 18: 'восемнадцать', 19: 'девятнадцать', 20: 'двадцать',\n",
    "        30: 'тридцать', 40: 'сорок', 50: 'пятьдесят', 60: 'шестьдесят', 70: 'семьдесят',\n",
    "        80: 'восемьдесят', 90: 'девяносто'\n",
    "    }\n",
    "        # Преобразуем результат в текстовое представление\n",
    "    if result in numbers_to_words_dict:\n",
    "        result_text = numbers_to_words_dict[result]\n",
    "    elif result < 100:\n",
    "        # Если результат не присутствует в словаре, разбиваем его на десятки и единицы\n",
    "        tens = result // 10 * 10\n",
    "        units = result % 10\n",
    "        result_text = numbers_to_words_dict[tens] + ' ' + numbers_to_words_dict[units]\n",
    "    else:\n",
    "        return \"Ошибка: Результат вне диапазона\"\n",
    "    \n",
    "    return result_text\n",
    "# Пример использования\n",
    "expression = 'двадцать пять плюс тринадцать'\n",
    "result = calc(expression)\n",
    "print(result)  # Вывод: \"тридцать восемь\""
   ]
  }
 ],
 "metadata": {
  "kernelspec": {
   "display_name": "Python 3 (ipykernel)",
   "language": "python",
   "name": "python3"
  },
  "language_info": {
   "codemirror_mode": {
    "name": "ipython",
    "version": 3
   },
   "file_extension": ".py",
   "mimetype": "text/x-python",
   "name": "python",
   "nbconvert_exporter": "python",
   "pygments_lexer": "ipython3",
   "version": "3.11.5"
  }
 },
 "nbformat": 4,
 "nbformat_minor": 5
}
